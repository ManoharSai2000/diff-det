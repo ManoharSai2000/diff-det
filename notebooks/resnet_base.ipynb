{
 "cells": [
  {
   "cell_type": "code",
   "execution_count": 5,
   "metadata": {},
   "outputs": [],
   "source": [
    "import os\n",
    "import pandas as pd\n",
    "from torchvision.io import read_image\n",
    "from torch.utils.data import Dataset\n",
    "import glob\n",
    "import torch\n",
    "import torchvision\n",
    "from torchvision.transforms import v2\n",
    "from PIL import Image\n",
    "import json\n",
    "import numpy as np\n",
    "\n",
    "class ImageNette(Dataset):\n",
    "    def __init__(self, base_dir=None):\n",
    "        self.base_dir =  \"/home/malapati/Storage/diffusion-detection/AlignProp/data/imagenette2/val\"\n",
    "        self.classes = os.listdir(self.base_dir)\n",
    "        self.image_paths,self.labels = [], []\n",
    "        self.process_label_map()\n",
    "\n",
    "        for i,cls in enumerate(self.classes):\n",
    "            for path in glob.glob(os.path.join(self.base_dir,cls+\"/*\")):\n",
    "                self.image_paths.append(path)\n",
    "                self.labels.append(self.idx2label[cls])\n",
    "        self.transforms = torchvision.transforms.Compose([\n",
    "                v2.ToTensor(),\n",
    "                v2.ToDtype(torch.float32),\n",
    "                v2.Resize((224,224)),\n",
    "                torchvision.transforms.Normalize((0.485, 0.456, 0.406), (0.229, 0.224, 0.225)),\n",
    "            ]\n",
    "        )\n",
    "    \n",
    "    def process_label_map(self,path=\"/home/malapati/Storage/diffusion-detection/AlignProp/data/imagenette2/imagenet_class_index.json\"):\n",
    "        self.class_idx = json.load(open(path,'r'))\n",
    "        self.idx2label = {}\n",
    "        for k in range(len(self.class_idx)):\n",
    "            self.idx2label[self.class_idx[str(k)][0]] = k\n",
    "        \n",
    "\n",
    "    def __len__(self):\n",
    "        return len(self.labels)\n",
    "\n",
    "    def __getitem__(self, idx):\n",
    "        image = np.array(Image.open(self.image_paths[idx]).convert('RGB'))\n",
    "        label = self.labels[idx]\n",
    "        if self.transforms:\n",
    "            image = self.transforms(image)\n",
    "        return image, label"
   ]
  },
  {
   "cell_type": "code",
   "execution_count": 6,
   "metadata": {},
   "outputs": [
    {
     "name": "stderr",
     "output_type": "stream",
     "text": [
      "/home/malapati/anaconda3/envs/alignprop/lib/python3.10/site-packages/torchvision/transforms/v2/_deprecated.py:41: UserWarning: The transform `ToTensor()` is deprecated and will be removed in a future release. Instead, please use `transforms.Compose([transforms.ToImageTensor(), transforms.ConvertImageDtype()])`.\n",
      "  warnings.warn(\n"
     ]
    }
   ],
   "source": [
    "dataset = ImageNette()"
   ]
  },
  {
   "cell_type": "code",
   "execution_count": 7,
   "metadata": {},
   "outputs": [
    {
     "name": "stderr",
     "output_type": "stream",
     "text": [
      "100%|██████████| 491/491 [00:25<00:00, 19.47it/s]"
     ]
    },
    {
     "name": "stdout",
     "output_type": "stream",
     "text": [
      "0.85545194 0.7745222929936306\n"
     ]
    },
    {
     "name": "stderr",
     "output_type": "stream",
     "text": [
      "\n"
     ]
    }
   ],
   "source": [
    "from torchvision import models\n",
    "from torch.utils.data import DataLoader\n",
    "from tqdm import tqdm\n",
    "import numpy as np\n",
    "import json\n",
    "\n",
    "\n",
    "classifier = models.resnet18(pretrained=True)\n",
    "dataloader = DataLoader(dataset,batch_size=8)\n",
    "\n",
    "loss_fn = torch.nn.CrossEntropyLoss()\n",
    "acc = 0\n",
    "final_loss = []\n",
    "device = torch.device(\"cuda\" if torch.cuda.is_available() else \"cpu\")\n",
    "classifier.to(device)\n",
    "classifier.eval()\n",
    "for image,label in tqdm(dataloader):\n",
    "    image = image.to(device)\n",
    "    label = label.to(device)\n",
    "    pred = classifier(image)\n",
    "    pred_cls = torch.argmax(pred,axis=1)\n",
    "    loss = loss_fn(pred,label).float().detach().cpu().numpy()\n",
    "\n",
    "    final_loss.append(loss)\n",
    "    acc += (pred_cls==label).sum().float().detach().cpu().numpy()\n",
    "\n",
    "print(np.mean(final_loss),acc/len(dataset))\n",
    "\n",
    "#classifier.fc = torch.nn.Linear(classifier.fc.in_features, config.num_classes)"
   ]
  },
  {
   "cell_type": "code",
   "execution_count": null,
   "metadata": {},
   "outputs": [],
   "source": []
  }
 ],
 "metadata": {
  "kernelspec": {
   "display_name": "alignprop",
   "language": "python",
   "name": "python3"
  },
  "language_info": {
   "codemirror_mode": {
    "name": "ipython",
    "version": 3
   },
   "file_extension": ".py",
   "mimetype": "text/x-python",
   "name": "python",
   "nbconvert_exporter": "python",
   "pygments_lexer": "ipython3",
   "version": "3.10.14"
  },
  "orig_nbformat": 4
 },
 "nbformat": 4,
 "nbformat_minor": 2
}
